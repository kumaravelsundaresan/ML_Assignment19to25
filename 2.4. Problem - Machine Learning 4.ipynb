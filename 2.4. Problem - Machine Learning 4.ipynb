{
 "cells": [
  {
   "cell_type": "code",
   "execution_count": 315,
   "metadata": {},
   "outputs": [
    {
     "data": {
      "text/plain": [
       "Index(['PassengerId', 'Survived', 'Pclass', 'Name', 'Sex', 'Age', 'SibSp',\n",
       "       'Parch', 'Ticket', 'Fare', 'Cabin', 'Embarked'],\n",
       "      dtype='object')"
      ]
     },
     "execution_count": 315,
     "metadata": {},
     "output_type": "execute_result"
    }
   ],
   "source": [
    "# Predicting Survival in the Titanic Data Set\n",
    "import numpy as np\n",
    "import pandas as pd\n",
    "import seaborn as sb\n",
    "import matplotlib.pyplot as plt\n",
    "import sklearn\n",
    "from pandas import Series, DataFrame\n",
    "from pylab import rcParams\n",
    "from sklearn import preprocessing\n",
    "from sklearn.model_selection import StratifiedShuffleSplit\n",
    "from sklearn.metrics import accuracy_score, log_loss\n",
    "from sklearn.ensemble import RandomForestClassifier\n",
    "from sklearn.tree import DecisionTreeClassifier\n",
    "from sklearn.neighbors import KNeighborsClassifier\n",
    "from sklearn.linear_model import LogisticRegression\n",
    "from sklearn.model_selection import train_test_split\n",
    "from sklearn import metrics\n",
    "from sklearn.metrics import classification_report\n",
    "import warnings; warnings.simplefilter('ignore')\n",
    "\n",
    "url= \"https://raw.githubusercontent.com/BigDataGal/Python-for-Data-Science/master/titanic-train.csv\"\n",
    "titanic = pd.read_csv(url)\n",
    "titanic.columns"
   ]
  },
  {
   "cell_type": "code",
   "execution_count": 316,
   "metadata": {},
   "outputs": [
    {
     "data": {
      "text/html": [
       "<div>\n",
       "<style scoped>\n",
       "    .dataframe tbody tr th:only-of-type {\n",
       "        vertical-align: middle;\n",
       "    }\n",
       "\n",
       "    .dataframe tbody tr th {\n",
       "        vertical-align: top;\n",
       "    }\n",
       "\n",
       "    .dataframe thead th {\n",
       "        text-align: right;\n",
       "    }\n",
       "</style>\n",
       "<table border=\"1\" class=\"dataframe\">\n",
       "  <thead>\n",
       "    <tr style=\"text-align: right;\">\n",
       "      <th></th>\n",
       "      <th>PassengerId</th>\n",
       "      <th>Survived</th>\n",
       "      <th>Pclass</th>\n",
       "      <th>Name</th>\n",
       "      <th>Sex</th>\n",
       "      <th>Age</th>\n",
       "      <th>SibSp</th>\n",
       "      <th>Parch</th>\n",
       "      <th>Ticket</th>\n",
       "      <th>Fare</th>\n",
       "      <th>Cabin</th>\n",
       "      <th>Embarked</th>\n",
       "    </tr>\n",
       "  </thead>\n",
       "  <tbody>\n",
       "    <tr>\n",
       "      <th>0</th>\n",
       "      <td>1</td>\n",
       "      <td>0</td>\n",
       "      <td>3</td>\n",
       "      <td>Braund, Mr. Owen Harris</td>\n",
       "      <td>male</td>\n",
       "      <td>22.0</td>\n",
       "      <td>1</td>\n",
       "      <td>0</td>\n",
       "      <td>A/5 21171</td>\n",
       "      <td>7.2500</td>\n",
       "      <td>NaN</td>\n",
       "      <td>S</td>\n",
       "    </tr>\n",
       "    <tr>\n",
       "      <th>1</th>\n",
       "      <td>2</td>\n",
       "      <td>1</td>\n",
       "      <td>1</td>\n",
       "      <td>Cumings, Mrs. John Bradley (Florence Briggs Th...</td>\n",
       "      <td>female</td>\n",
       "      <td>38.0</td>\n",
       "      <td>1</td>\n",
       "      <td>0</td>\n",
       "      <td>PC 17599</td>\n",
       "      <td>71.2833</td>\n",
       "      <td>C85</td>\n",
       "      <td>C</td>\n",
       "    </tr>\n",
       "    <tr>\n",
       "      <th>2</th>\n",
       "      <td>3</td>\n",
       "      <td>1</td>\n",
       "      <td>3</td>\n",
       "      <td>Heikkinen, Miss. Laina</td>\n",
       "      <td>female</td>\n",
       "      <td>26.0</td>\n",
       "      <td>0</td>\n",
       "      <td>0</td>\n",
       "      <td>STON/O2. 3101282</td>\n",
       "      <td>7.9250</td>\n",
       "      <td>NaN</td>\n",
       "      <td>S</td>\n",
       "    </tr>\n",
       "    <tr>\n",
       "      <th>3</th>\n",
       "      <td>4</td>\n",
       "      <td>1</td>\n",
       "      <td>1</td>\n",
       "      <td>Futrelle, Mrs. Jacques Heath (Lily May Peel)</td>\n",
       "      <td>female</td>\n",
       "      <td>35.0</td>\n",
       "      <td>1</td>\n",
       "      <td>0</td>\n",
       "      <td>113803</td>\n",
       "      <td>53.1000</td>\n",
       "      <td>C123</td>\n",
       "      <td>S</td>\n",
       "    </tr>\n",
       "    <tr>\n",
       "      <th>4</th>\n",
       "      <td>5</td>\n",
       "      <td>0</td>\n",
       "      <td>3</td>\n",
       "      <td>Allen, Mr. William Henry</td>\n",
       "      <td>male</td>\n",
       "      <td>35.0</td>\n",
       "      <td>0</td>\n",
       "      <td>0</td>\n",
       "      <td>373450</td>\n",
       "      <td>8.0500</td>\n",
       "      <td>NaN</td>\n",
       "      <td>S</td>\n",
       "    </tr>\n",
       "  </tbody>\n",
       "</table>\n",
       "</div>"
      ],
      "text/plain": [
       "   PassengerId  Survived  Pclass  \\\n",
       "0            1         0       3   \n",
       "1            2         1       1   \n",
       "2            3         1       3   \n",
       "3            4         1       1   \n",
       "4            5         0       3   \n",
       "\n",
       "                                                Name     Sex   Age  SibSp  \\\n",
       "0                            Braund, Mr. Owen Harris    male  22.0      1   \n",
       "1  Cumings, Mrs. John Bradley (Florence Briggs Th...  female  38.0      1   \n",
       "2                             Heikkinen, Miss. Laina  female  26.0      0   \n",
       "3       Futrelle, Mrs. Jacques Heath (Lily May Peel)  female  35.0      1   \n",
       "4                           Allen, Mr. William Henry    male  35.0      0   \n",
       "\n",
       "   Parch            Ticket     Fare Cabin Embarked  \n",
       "0      0         A/5 21171   7.2500   NaN        S  \n",
       "1      0          PC 17599  71.2833   C85        C  \n",
       "2      0  STON/O2. 3101282   7.9250   NaN        S  \n",
       "3      0            113803  53.1000  C123        S  \n",
       "4      0            373450   8.0500   NaN        S  "
      ]
     },
     "execution_count": 316,
     "metadata": {},
     "output_type": "execute_result"
    }
   ],
   "source": [
    "titanic.head()"
   ]
  },
  {
   "cell_type": "code",
   "execution_count": 317,
   "metadata": {},
   "outputs": [
    {
     "name": "stdout",
     "output_type": "stream",
     "text": [
      "Understanding the impact of travelling class in the survival ratio \n",
      "\n",
      "   Pclass  Survived\n",
      "0       1  0.629630\n",
      "1       2  0.472826\n",
      "2       3  0.242363 \n",
      "\n",
      "Passengers who were travelling travelling on a higher class had a higher survival ratio\n"
     ]
    }
   ],
   "source": [
    "print(\"Understanding the impact of travelling class in the survival ratio \\n\")\n",
    "print(titanic[['Pclass','Survived']].groupby(['Pclass'],as_index=False).mean(),\"\\n\")\n",
    "print(\"Passengers who were travelling travelling on a higher class had a higher survival ratio\")"
   ]
  },
  {
   "cell_type": "code",
   "execution_count": 318,
   "metadata": {},
   "outputs": [
    {
     "name": "stdout",
     "output_type": "stream",
     "text": [
      "Understanding the impact of gender in the survival ratio \n",
      "\n",
      "      Sex  Survived\n",
      "0  female  0.742038\n",
      "1    male  0.188908 \n",
      "\n",
      "Female passangers have a higher survival rate than the male passengers\n"
     ]
    }
   ],
   "source": [
    "print(\"Understanding the impact of gender in the survival ratio \\n\")\n",
    "print(titanic[['Sex','Survived']].groupby(['Sex'],as_index=False).mean(),\"\\n\")\n",
    "print(\"Female passangers have a higher survival rate than the male passengers\")"
   ]
  },
  {
   "cell_type": "code",
   "execution_count": 319,
   "metadata": {},
   "outputs": [
    {
     "name": "stdout",
     "output_type": "stream",
     "text": [
      "Understanding the impact of Family size in survival rate \n",
      "\n",
      "   Family_size  Survived\n",
      "0            1  0.303538\n",
      "1            2  0.552795\n",
      "2            3  0.578431\n",
      "3            4  0.724138\n",
      "4            5  0.200000\n",
      "5            6  0.136364\n",
      "6            7  0.333333\n",
      "7            8  0.000000\n",
      "8           11  0.000000 \n",
      "\n",
      "From the above, we infer that a moderate family has a higher survival rate (Family with many members as well as individual person has a least survival ratio)\n"
     ]
    }
   ],
   "source": [
    "print(\"Understanding the impact of Family size in survival rate \\n\")\n",
    "for i in titanic:\n",
    "    titanic['Family_size'] = titanic['SibSp']+titanic['Parch']+1\n",
    "print(titanic[['Family_size','Survived']].groupby(['Family_size'],as_index=False).mean(),\"\\n\")\n",
    "print(\"From the above, we infer that a moderate family has a higher survival rate (Family with many members as well as individual person has a least survival ratio)\")"
   ]
  },
  {
   "cell_type": "code",
   "execution_count": 320,
   "metadata": {},
   "outputs": [
    {
     "name": "stdout",
     "output_type": "stream",
     "text": [
      "Understanding the impact of Age in survival rate \n",
      "\n",
      "          Age_group  Survived\n",
      "0    (0.34, 16.336]  0.550000\n",
      "1  (16.336, 32.252]  0.369942\n",
      "2  (32.252, 48.168]  0.404255\n",
      "3  (48.168, 64.084]  0.434783\n",
      "4    (64.084, 80.0]  0.090909 \n",
      "\n",
      "Children and old people have a higher survival rate\n"
     ]
    }
   ],
   "source": [
    "print(\"Understanding the impact of Age in survival rate \\n\")\n",
    "titanic['Age_group'] = pd.cut(titanic['Age'],5)\n",
    "print(titanic[['Age_group','Survived']].groupby(['Age_group'],as_index=False).mean(),\"\\n\")\n",
    "print(\"Children and old people have a higher survival rate\")"
   ]
  },
  {
   "cell_type": "code",
   "execution_count": 321,
   "metadata": {},
   "outputs": [
    {
     "name": "stdout",
     "output_type": "stream",
     "text": [
      "Understanding the impact of Fare in survival rate \n",
      "\n",
      "          Fare_group  Survived\n",
      "0    (-0.001, 7.854]  0.217877\n",
      "1      (7.854, 10.5]  0.201087\n",
      "2     (10.5, 21.679]  0.424419\n",
      "3   (21.679, 39.688]  0.444444\n",
      "4  (39.688, 512.329]  0.642045 \n",
      "\n",
      "People who paid more had a higher survival rate\n"
     ]
    }
   ],
   "source": [
    "# Using the qcut function to get a ecenly dustributed range\n",
    "print(\"Understanding the impact of Fare in survival rate \\n\")\n",
    "titanic['Fare_group'] = pd.qcut(titanic['Fare'],5)\n",
    "print(titanic[['Fare_group','Survived']].groupby(['Fare_group'],as_index=False).mean(),\"\\n\")\n",
    "print(\"People who paid more had a higher survival rate\")"
   ]
  },
  {
   "cell_type": "code",
   "execution_count": 322,
   "metadata": {
    "collapsed": true
   },
   "outputs": [],
   "source": [
    "# Analyzing and mapping the Age parameter\n",
    "titanic.loc[titanic['Age'] <= 16,'Age']=0\n",
    "titanic.loc[(titanic['Age'] > 16) & (titanic['Age'] <= 32),'Age']=1\n",
    "titanic.loc[(titanic['Age'] > 32) & (titanic['Age'] <= 48),'Age']=2\n",
    "titanic.loc[(titanic['Age'] > 48) & (titanic['Age'] <= 64),'Age']=3\n",
    "titanic.loc[(titanic['Age'] > 64) & (titanic['Age'] <= 80),'Age']=4"
   ]
  },
  {
   "cell_type": "code",
   "execution_count": 323,
   "metadata": {
    "collapsed": true
   },
   "outputs": [],
   "source": [
    "# Analyzing and mapping the Age parameter\n",
    "titanic.loc[titanic['Fare'] <= 7.854,'Fare']=0\n",
    "titanic.loc[(titanic['Fare'] > 7.854) & (titanic['Fare'] <= 10.5),'Fare']=1\n",
    "titanic.loc[(titanic['Fare'] > 10.5) & (titanic['Fare'] <= 21.679),'Fare']=2\n",
    "titanic.loc[(titanic['Fare'] > 21.679) & (titanic['Fare'] <= 39.688),'Fare']=3\n",
    "titanic.loc[(titanic['Fare'] > 39.688) & (titanic['Fare'] <= 512.329),'Fare']=4"
   ]
  },
  {
   "cell_type": "code",
   "execution_count": 324,
   "metadata": {},
   "outputs": [
    {
     "data": {
      "text/html": [
       "<div>\n",
       "<style scoped>\n",
       "    .dataframe tbody tr th:only-of-type {\n",
       "        vertical-align: middle;\n",
       "    }\n",
       "\n",
       "    .dataframe tbody tr th {\n",
       "        vertical-align: top;\n",
       "    }\n",
       "\n",
       "    .dataframe thead th {\n",
       "        text-align: right;\n",
       "    }\n",
       "</style>\n",
       "<table border=\"1\" class=\"dataframe\">\n",
       "  <thead>\n",
       "    <tr style=\"text-align: right;\">\n",
       "      <th></th>\n",
       "      <th>Survived</th>\n",
       "      <th>Pclass</th>\n",
       "      <th>Sex</th>\n",
       "      <th>Age</th>\n",
       "      <th>Fare</th>\n",
       "      <th>Family_size</th>\n",
       "    </tr>\n",
       "  </thead>\n",
       "  <tbody>\n",
       "    <tr>\n",
       "      <th>0</th>\n",
       "      <td>0</td>\n",
       "      <td>3</td>\n",
       "      <td>male</td>\n",
       "      <td>1.0</td>\n",
       "      <td>0.0</td>\n",
       "      <td>2</td>\n",
       "    </tr>\n",
       "    <tr>\n",
       "      <th>1</th>\n",
       "      <td>1</td>\n",
       "      <td>1</td>\n",
       "      <td>female</td>\n",
       "      <td>2.0</td>\n",
       "      <td>4.0</td>\n",
       "      <td>2</td>\n",
       "    </tr>\n",
       "    <tr>\n",
       "      <th>2</th>\n",
       "      <td>1</td>\n",
       "      <td>3</td>\n",
       "      <td>female</td>\n",
       "      <td>1.0</td>\n",
       "      <td>1.0</td>\n",
       "      <td>1</td>\n",
       "    </tr>\n",
       "    <tr>\n",
       "      <th>3</th>\n",
       "      <td>1</td>\n",
       "      <td>1</td>\n",
       "      <td>female</td>\n",
       "      <td>2.0</td>\n",
       "      <td>4.0</td>\n",
       "      <td>2</td>\n",
       "    </tr>\n",
       "    <tr>\n",
       "      <th>4</th>\n",
       "      <td>0</td>\n",
       "      <td>3</td>\n",
       "      <td>male</td>\n",
       "      <td>2.0</td>\n",
       "      <td>1.0</td>\n",
       "      <td>1</td>\n",
       "    </tr>\n",
       "  </tbody>\n",
       "</table>\n",
       "</div>"
      ],
      "text/plain": [
       "   Survived  Pclass     Sex  Age  Fare  Family_size\n",
       "0         0       3    male  1.0   0.0            2\n",
       "1         1       1  female  2.0   4.0            2\n",
       "2         1       3  female  1.0   1.0            1\n",
       "3         1       1  female  2.0   4.0            2\n",
       "4         0       3    male  2.0   1.0            1"
      ]
     },
     "execution_count": 324,
     "metadata": {},
     "output_type": "execute_result"
    }
   ],
   "source": [
    "# Dropping the unwanted columns (Parch and SibSp are also dropped because we have combined them into Family_size)\n",
    "drop_elements = ['PassengerId','Name','Ticket','Cabin','SibSp','Parch','Embarked']\n",
    "titanic = titanic.drop(drop_elements, axis = 1)\n",
    "titanic = titanic.drop(['Age_group','Fare_group'], axis = 1)\n",
    "titanic.head()"
   ]
  },
  {
   "cell_type": "code",
   "execution_count": 325,
   "metadata": {},
   "outputs": [],
   "source": [
    "# Mapping the Sex values\n",
    "titanic['Sex'] = titanic['Sex'].map( {'female': 1, 'male': 0} ).astype(int)"
   ]
  },
  {
   "cell_type": "code",
   "execution_count": 326,
   "metadata": {},
   "outputs": [
    {
     "name": "stdout",
     "output_type": "stream",
     "text": [
      "False\n"
     ]
    }
   ],
   "source": [
    "print(titanic['Sex'].isnull().values.any())"
   ]
  },
  {
   "cell_type": "code",
   "execution_count": 327,
   "metadata": {},
   "outputs": [
    {
     "data": {
      "text/html": [
       "<div>\n",
       "<style scoped>\n",
       "    .dataframe tbody tr th:only-of-type {\n",
       "        vertical-align: middle;\n",
       "    }\n",
       "\n",
       "    .dataframe tbody tr th {\n",
       "        vertical-align: top;\n",
       "    }\n",
       "\n",
       "    .dataframe thead th {\n",
       "        text-align: right;\n",
       "    }\n",
       "</style>\n",
       "<table border=\"1\" class=\"dataframe\">\n",
       "  <thead>\n",
       "    <tr style=\"text-align: right;\">\n",
       "      <th></th>\n",
       "      <th>Survived</th>\n",
       "      <th>Pclass</th>\n",
       "      <th>Sex</th>\n",
       "      <th>Age</th>\n",
       "      <th>Fare</th>\n",
       "      <th>Family_size</th>\n",
       "    </tr>\n",
       "  </thead>\n",
       "  <tbody>\n",
       "    <tr>\n",
       "      <th>0</th>\n",
       "      <td>0</td>\n",
       "      <td>3</td>\n",
       "      <td>0</td>\n",
       "      <td>1.0</td>\n",
       "      <td>0.0</td>\n",
       "      <td>2</td>\n",
       "    </tr>\n",
       "    <tr>\n",
       "      <th>1</th>\n",
       "      <td>1</td>\n",
       "      <td>1</td>\n",
       "      <td>1</td>\n",
       "      <td>2.0</td>\n",
       "      <td>4.0</td>\n",
       "      <td>2</td>\n",
       "    </tr>\n",
       "    <tr>\n",
       "      <th>2</th>\n",
       "      <td>1</td>\n",
       "      <td>3</td>\n",
       "      <td>1</td>\n",
       "      <td>1.0</td>\n",
       "      <td>1.0</td>\n",
       "      <td>1</td>\n",
       "    </tr>\n",
       "    <tr>\n",
       "      <th>3</th>\n",
       "      <td>1</td>\n",
       "      <td>1</td>\n",
       "      <td>1</td>\n",
       "      <td>2.0</td>\n",
       "      <td>4.0</td>\n",
       "      <td>2</td>\n",
       "    </tr>\n",
       "    <tr>\n",
       "      <th>4</th>\n",
       "      <td>0</td>\n",
       "      <td>3</td>\n",
       "      <td>0</td>\n",
       "      <td>2.0</td>\n",
       "      <td>1.0</td>\n",
       "      <td>1</td>\n",
       "    </tr>\n",
       "  </tbody>\n",
       "</table>\n",
       "</div>"
      ],
      "text/plain": [
       "   Survived  Pclass  Sex  Age  Fare  Family_size\n",
       "0         0       3    0  1.0   0.0            2\n",
       "1         1       1    1  2.0   4.0            2\n",
       "2         1       3    1  1.0   1.0            1\n",
       "3         1       1    1  2.0   4.0            2\n",
       "4         0       3    0  2.0   1.0            1"
      ]
     },
     "execution_count": 327,
     "metadata": {},
     "output_type": "execute_result"
    }
   ],
   "source": [
    "titanic.head()"
   ]
  },
  {
   "cell_type": "code",
   "execution_count": 328,
   "metadata": {},
   "outputs": [
    {
     "data": {
      "text/plain": [
       "False"
      ]
     },
     "execution_count": 328,
     "metadata": {},
     "output_type": "execute_result"
    }
   ],
   "source": [
    "# Setting our target variable\n",
    "y = titanic['Survived']\n",
    "y.isnull().values.any()"
   ]
  },
  {
   "cell_type": "code",
   "execution_count": 329,
   "metadata": {},
   "outputs": [
    {
     "name": "stdout",
     "output_type": "stream",
     "text": [
      "Pclass         2.308642\n",
      "Sex            0.352413\n",
      "Age            1.362745\n",
      "Fare           3.716035\n",
      "Family_size    1.904602\n",
      "dtype: float64\n"
     ]
    }
   ],
   "source": [
    "# Setting our dependent variables\n",
    "x = titanic[['Pclass','Sex','Age','Fare','Family_size']]\n",
    "# Filling the NaN values with the mean age in the mean column\n",
    "x = x.apply(lambda x: x.fillna(x.mean()),axis=0)\n",
    "print(x.mean())"
   ]
  },
  {
   "cell_type": "code",
   "execution_count": 330,
   "metadata": {},
   "outputs": [],
   "source": [
    "algorithms = [KNeighborsClassifier(3),DecisionTreeClassifier(),RandomForestClassifier(),LogisticRegression()]\n",
    "log_train  = pd.DataFrame(columns=[\"Classifier\", \"Accuracy\"])\n",
    "log_test  = pd.DataFrame(columns=[\"Classifier\", \"Accuracy\"])"
   ]
  },
  {
   "cell_type": "code",
   "execution_count": 331,
   "metadata": {},
   "outputs": [
    {
     "name": "stdout",
     "output_type": "stream",
     "text": [
      "{'KNeighborsClassifier': 0.848314606741573, 'DecisionTreeClassifier': 0.8707865168539326, 'RandomForestClassifier': 0.8670411985018727, 'LogisticRegression': 0.7715355805243446}\n"
     ]
    }
   ],
   "source": [
    "# Splitting our dataset into train and test datasets\n",
    "x_train,x_test,y_train,y_test = train_test_split(x,y,test_size=0.4,random_state=4)\n",
    "\n",
    "acc_dict = {}\n",
    "\n",
    "# Building model using train dataset\n",
    "for x in algorithms:\n",
    "    name = x.__class__.__name__\n",
    "    x.fit(x_train, y_train)\n",
    "    train_predictions = x.predict(x_train)\n",
    "    acc = accuracy_score(y_train, train_predictions)\n",
    "    if name in acc_dict:\n",
    "        acc_dict[name] += acc\n",
    "    else:\n",
    "        acc_dict[name] = acc\n",
    "print(acc_dict)\n",
    "for x in acc_dict:\n",
    "    acc_dict[x] = acc_dict[x] / 10.0\n",
    "    log_train_entry = pd.DataFrame([[x, acc_dict[x]]], columns=[\"Classifier\", \"Accuracy\"])\n",
    "    log_train = log_train.append(log_train_entry)"
   ]
  },
  {
   "cell_type": "code",
   "execution_count": 332,
   "metadata": {},
   "outputs": [
    {
     "data": {
      "text/html": [
       "<div>\n",
       "<style scoped>\n",
       "    .dataframe tbody tr th:only-of-type {\n",
       "        vertical-align: middle;\n",
       "    }\n",
       "\n",
       "    .dataframe tbody tr th {\n",
       "        vertical-align: top;\n",
       "    }\n",
       "\n",
       "    .dataframe thead th {\n",
       "        text-align: right;\n",
       "    }\n",
       "</style>\n",
       "<table border=\"1\" class=\"dataframe\">\n",
       "  <thead>\n",
       "    <tr style=\"text-align: right;\">\n",
       "      <th></th>\n",
       "      <th>Classifier</th>\n",
       "      <th>Accuracy</th>\n",
       "    </tr>\n",
       "  </thead>\n",
       "  <tbody>\n",
       "    <tr>\n",
       "      <th>0</th>\n",
       "      <td>KNeighborsClassifier</td>\n",
       "      <td>84.83</td>\n",
       "    </tr>\n",
       "    <tr>\n",
       "      <th>0</th>\n",
       "      <td>DecisionTreeClassifier</td>\n",
       "      <td>87.08</td>\n",
       "    </tr>\n",
       "    <tr>\n",
       "      <th>0</th>\n",
       "      <td>RandomForestClassifier</td>\n",
       "      <td>86.70</td>\n",
       "    </tr>\n",
       "    <tr>\n",
       "      <th>0</th>\n",
       "      <td>LogisticRegression</td>\n",
       "      <td>77.15</td>\n",
       "    </tr>\n",
       "  </tbody>\n",
       "</table>\n",
       "</div>"
      ],
      "text/plain": [
       "               Classifier  Accuracy\n",
       "0    KNeighborsClassifier     84.83\n",
       "0  DecisionTreeClassifier     87.08\n",
       "0  RandomForestClassifier     86.70\n",
       "0      LogisticRegression     77.15"
      ]
     },
     "execution_count": 332,
     "metadata": {},
     "output_type": "execute_result"
    }
   ],
   "source": [
    "log_train['Accuracy'] = (log_train['Accuracy']*1000).round(2)\n",
    "log_train"
   ]
  },
  {
   "cell_type": "code",
   "execution_count": 333,
   "metadata": {},
   "outputs": [
    {
     "name": "stdout",
     "output_type": "stream",
     "text": [
      "{'KNeighborsClassifier': 0.9503776791615522, 'DecisionTreeClassifier': 0.9946416768954773, 'RandomForestClassifier': 0.991466024612092, 'LogisticRegression': 0.9062852107134989}\n"
     ]
    }
   ],
   "source": [
    "# Validating our model on the test dataset\n",
    "for x in algorithms:\n",
    "    name = x.__class__.__name__\n",
    "    x.fit(x_test, y_test)\n",
    "    test_predictions = x.predict(x_test)\n",
    "    acc = accuracy_score(y_test, test_predictions)\n",
    "    if name in acc_dict:\n",
    "        acc_dict[name] += acc\n",
    "    else:\n",
    "        acc_dict[name] = acc\n",
    "print(acc_dict)\n",
    "for x in acc_dict:\n",
    "    acc_dict[x] = acc_dict[x] / 10.0\n",
    "    log_test_entry = pd.DataFrame([[x, acc_dict[x]]], columns=[\"Classifier\", \"Accuracy\"])\n",
    "    log_test = log_test.append(log_test_entry)"
   ]
  },
  {
   "cell_type": "code",
   "execution_count": 334,
   "metadata": {},
   "outputs": [
    {
     "data": {
      "text/html": [
       "<div>\n",
       "<style scoped>\n",
       "    .dataframe tbody tr th:only-of-type {\n",
       "        vertical-align: middle;\n",
       "    }\n",
       "\n",
       "    .dataframe tbody tr th {\n",
       "        vertical-align: top;\n",
       "    }\n",
       "\n",
       "    .dataframe thead th {\n",
       "        text-align: right;\n",
       "    }\n",
       "</style>\n",
       "<table border=\"1\" class=\"dataframe\">\n",
       "  <thead>\n",
       "    <tr style=\"text-align: right;\">\n",
       "      <th></th>\n",
       "      <th>Classifier</th>\n",
       "      <th>Accuracy</th>\n",
       "    </tr>\n",
       "  </thead>\n",
       "  <tbody>\n",
       "    <tr>\n",
       "      <th>0</th>\n",
       "      <td>KNeighborsClassifier</td>\n",
       "      <td>95.04</td>\n",
       "    </tr>\n",
       "    <tr>\n",
       "      <th>0</th>\n",
       "      <td>DecisionTreeClassifier</td>\n",
       "      <td>99.46</td>\n",
       "    </tr>\n",
       "    <tr>\n",
       "      <th>0</th>\n",
       "      <td>RandomForestClassifier</td>\n",
       "      <td>99.15</td>\n",
       "    </tr>\n",
       "    <tr>\n",
       "      <th>0</th>\n",
       "      <td>LogisticRegression</td>\n",
       "      <td>90.63</td>\n",
       "    </tr>\n",
       "  </tbody>\n",
       "</table>\n",
       "</div>"
      ],
      "text/plain": [
       "               Classifier  Accuracy\n",
       "0    KNeighborsClassifier     95.04\n",
       "0  DecisionTreeClassifier     99.46\n",
       "0  RandomForestClassifier     99.15\n",
       "0      LogisticRegression     90.63"
      ]
     },
     "execution_count": 334,
     "metadata": {},
     "output_type": "execute_result"
    }
   ],
   "source": [
    "log_test['Accuracy'] = (log_test['Accuracy']*1000).round(2)\n",
    "log_test"
   ]
  }
 ],
 "metadata": {
  "kernelspec": {
   "display_name": "Python 3",
   "language": "python",
   "name": "python3"
  },
  "language_info": {
   "codemirror_mode": {
    "name": "ipython",
    "version": 3
   },
   "file_extension": ".py",
   "mimetype": "text/x-python",
   "name": "python",
   "nbconvert_exporter": "python",
   "pygments_lexer": "ipython3",
   "version": "3.7.1"
  }
 },
 "nbformat": 4,
 "nbformat_minor": 2
}
